{
 "cells": [
  {
   "cell_type": "code",
   "execution_count": 1,
   "metadata": {},
   "outputs": [],
   "source": [
    "import xarray as xr\n",
    "import numpy as np\n",
    "import os\n",
    "import pandas as pd\n",
    "from matplotlib import pyplot as plt\n",
    "from scipy import interpolate\n",
    "import cartopy.crs as ccrs\n",
    "import datetime as dt\n",
    "import gdal\n",
    "\n",
    "gdal.UseExceptions()\n",
    "\n",
    "%matplotlib inline\n",
    "\n",
    "# Set plot fonts to a larger size\n",
    "plt.rcParams.update({'font.size': 15})"
   ]
  },
  {
   "cell_type": "markdown",
   "metadata": {},
   "source": [
    "Load nc file:"
   ]
  },
  {
   "cell_type": "code",
   "execution_count": 2,
   "metadata": {},
   "outputs": [],
   "source": [
    "ds = xr.open_dataset('./nc/x.nc')"
   ]
  },
  {
   "cell_type": "code",
   "execution_count": 3,
   "metadata": {},
   "outputs": [
    {
     "data": {
      "text/plain": [
       "<xarray.Dataset>\n",
       "Dimensions:    (line: 2030, pixel: 1354, time: 87)\n",
       "Coordinates:\n",
       "    longitude  (time, line, pixel) float64 ...\n",
       "    latitude   (time, line, pixel) float64 ...\n",
       "  * time       (time) datetime64[ns] 2017-04-10T09:40:00 ... 2017-04-30T22:00:00\n",
       "Dimensions without coordinates: line, pixel\n",
       "Data variables:\n",
       "    lst        (time, line, pixel) float64 ...\n",
       "    viewangle  (time, line, pixel) float64 ..."
      ]
     },
     "execution_count": 3,
     "metadata": {},
     "output_type": "execute_result"
    }
   ],
   "source": [
    "ds"
   ]
  },
  {
   "cell_type": "markdown",
   "metadata": {},
   "source": [
    "---\n",
    "#### Analysis:\n",
    "Plot and save each MODIS timestep figure"
   ]
  },
  {
   "cell_type": "code",
   "execution_count": 4,
   "metadata": {},
   "outputs": [],
   "source": [
    "#for t in range(ds.time.shape[0]):\n",
    "#    ds.lst[t].plot(x='longitude',y='latitude',cmap='magma',vmin=250,vmax=350)\n",
    "#    plt.xlim((-110,-106))\n",
    "#    plt.ylim((37,41))\n",
    "#    plt.savefig('{}_GrandMesa_MxD11_L2_LST.png'.format(str(ds.time[t].values)[0:13]),dpi=300)\n",
    "#    plt.close('all')"
   ]
  },
  {
   "cell_type": "markdown",
   "metadata": {},
   "source": [
    "Get the MODIS pixel coordinates for our ground based observations from each observation"
   ]
  },
  {
   "cell_type": "code",
   "execution_count": 5,
   "metadata": {},
   "outputs": [],
   "source": [
    "# approx locaiton of Mesa West\n",
    "lat_obs = 39.03388\n",
    "long_obs= -108.21399\n",
    "\n",
    "# approx locaiton of Mesa Middle\n",
    "#lat_obs = 39.0396\n",
    "#long_obs=-107.9417\n",
    "\n",
    "# approx locaiton of LSOS\n",
    "#lat_obs = 39.0522\n",
    "#long_obs=-108.0979"
   ]
  },
  {
   "cell_type": "markdown",
   "metadata": {},
   "source": [
    "Find coordinates corresponding to this location at each timestep of MODIS observations"
   ]
  },
  {
   "cell_type": "code",
   "execution_count": 7,
   "metadata": {},
   "outputs": [],
   "source": [
    "coordinates = [np.unravel_index((np.abs(ds.latitude[time] - lat_obs) \n",
    "                                + np.abs(ds.longitude[time] - long_obs)).argmin(), \n",
    "                               ds.latitude[time].shape)\n",
    "               for time in range(0,len(ds.time))]"
   ]
  },
  {
   "cell_type": "code",
   "execution_count": 8,
   "metadata": {},
   "outputs": [
    {
     "name": "stderr",
     "output_type": "stream",
     "text": [
      "C:\\Users\\steve\\Anaconda3\\envs\\rasterenv\\lib\\site-packages\\ipykernel_launcher.py:18: RuntimeWarning: Mean of empty slice\n",
      "C:\\Users\\steve\\Anaconda3\\envs\\rasterenv\\lib\\site-packages\\ipykernel_launcher.py:19: RuntimeWarning: All-NaN slice encountered\n",
      "C:\\Users\\steve\\Anaconda3\\envs\\rasterenv\\lib\\site-packages\\ipykernel_launcher.py:20: RuntimeWarning: All-NaN slice encountered\n"
     ]
    }
   ],
   "source": [
    "temp=[]\n",
    "datetime=[]\n",
    "viewtime=[]\n",
    "viewangle=[]\n",
    "temp_mean=[]\n",
    "temp_min=[]\n",
    "temp_max=[]\n",
    "# Make a separate array of pixels around our point of interest\n",
    "m = 1 # for a 3x3 grid, m=1\n",
    "b=0.5 #bounds, +/- in degrees lat/lon\n",
    "n=0\n",
    "for t in range(0,len(coordinates)):\n",
    "    # Find LST value at the specified coordinates\n",
    "    temp.append(ds.lst[t][coordinates[t]].values - 273.15)\n",
    "    try: # trying to get a grid of pixel values around Gaylor Pit\n",
    "        temp_grid = ds.lst[t][coordinates[t][0]-m:coordinates[t][0]+1+m,coordinates[t][1]-m:coordinates[t][1]+1+m].values\n",
    "        #print(temp_grid)\n",
    "        temp_mean.append(np.nanmean(temp_grid) - 273.15)\n",
    "        temp_min.append(np.nanmin(temp_grid) - 273.15)\n",
    "        temp_max.append(np.nanmax(temp_grid) - 273.15)\n",
    "    except ValueError:\n",
    "        nan_placeholder = np.ones((3,3))*np.nan\n",
    "        temp_mean.append(nan_placeholder)\n",
    "        temp_min.append(nan_placeholder)\n",
    "        temp_max.append(nan_placeholder)\n",
    "\n",
    "    \n",
    "    # Find the date and time of this observation\n",
    "    datetime.append(pd.to_datetime(ds.time[t].values))\n",
    "    \n",
    "    # Record view time and view angle of this point\n",
    "    #viewtime.append(f.View_time[coordinates].values)\n",
    "    viewangle.append(ds.viewangle[t][coordinates[t]].values)\n",
    "    \n",
    "    # print and save figure\n",
    "    #fig, ax = plt.subplots(figsize=(7,7))\n",
    "    #ax = plt.axes(projection=ccrs.Orthographic(-117, 39))\n",
    "    #ds.lst[t].plot.pcolormesh('longitude', 'latitude',cmap='magma',\n",
    "    #                      vmin=250, vmax=350, ax=ax, transform=ccrs.PlateCarree(),zorder=30);\n",
    "    ##ax.set_global(); #ax.stock_img();\n",
    "    #ax.coastlines();\n",
    "    #ax.gridlines();\n",
    "    #ax.set_extent([long_obs-b,long_obs+b, lat_obs-b,lat_obs+b], crs=ccrs.PlateCarree())\n",
    "    #ax.set_title('MODIS LST {}'.format(datetime[n]))\n",
    "    #plt.savefig('MODIS LST {}.png'.format(n))\n",
    "    #plt.close('all')\n",
    "    n+=1\n",
    "\n",
    "d = {'datetime': datetime, \n",
    "     'temperature': temp, \n",
    "     #'viewtime': viewtime, \n",
    "     'viewangle': viewangle\n",
    "     #'temp_min': temp_min,\n",
    "     #'temp_max': temp_max,\n",
    "     #'temp_mean': temp_mean\n",
    "     }\n",
    "modis = pd.DataFrame(data=d)\n",
    "\n",
    "# If we need to change the time zone of the satellite observations\n",
    "hrs = -6\n",
    "modis['datetime'] +=  pd.to_timedelta(hrs, unit='h')\n",
    "modis = modis.sort_values('datetime').reset_index()"
   ]
  },
  {
   "cell_type": "code",
   "execution_count": 9,
   "metadata": {},
   "outputs": [
    {
     "data": {
      "text/html": [
       "<div>\n",
       "<style scoped>\n",
       "    .dataframe tbody tr th:only-of-type {\n",
       "        vertical-align: middle;\n",
       "    }\n",
       "\n",
       "    .dataframe tbody tr th {\n",
       "        vertical-align: top;\n",
       "    }\n",
       "\n",
       "    .dataframe thead th {\n",
       "        text-align: right;\n",
       "    }\n",
       "</style>\n",
       "<table border=\"1\" class=\"dataframe\">\n",
       "  <thead>\n",
       "    <tr style=\"text-align: right;\">\n",
       "      <th></th>\n",
       "      <th>index</th>\n",
       "      <th>datetime</th>\n",
       "      <th>temperature</th>\n",
       "      <th>viewangle</th>\n",
       "    </tr>\n",
       "  </thead>\n",
       "  <tbody>\n",
       "    <tr>\n",
       "      <th>0</th>\n",
       "      <td>0</td>\n",
       "      <td>2017-04-10 03:40:00</td>\n",
       "      <td>-13.43</td>\n",
       "      <td>25.5</td>\n",
       "    </tr>\n",
       "    <tr>\n",
       "      <th>1</th>\n",
       "      <td>1</td>\n",
       "      <td>2017-04-10 14:45:00</td>\n",
       "      <td>-1.05</td>\n",
       "      <td>33.0</td>\n",
       "    </tr>\n",
       "    <tr>\n",
       "      <th>2</th>\n",
       "      <td>2</td>\n",
       "      <td>2017-04-11 04:25:00</td>\n",
       "      <td>NaN</td>\n",
       "      <td>nan</td>\n",
       "    </tr>\n",
       "    <tr>\n",
       "      <th>3</th>\n",
       "      <td>3</td>\n",
       "      <td>2017-04-11 15:30:00</td>\n",
       "      <td>NaN</td>\n",
       "      <td>nan</td>\n",
       "    </tr>\n",
       "    <tr>\n",
       "      <th>4</th>\n",
       "      <td>4</td>\n",
       "      <td>2017-04-12 03:30:00</td>\n",
       "      <td>-4.75</td>\n",
       "      <td>43.0</td>\n",
       "    </tr>\n",
       "  </tbody>\n",
       "</table>\n",
       "</div>"
      ],
      "text/plain": [
       "   index            datetime  temperature viewangle\n",
       "0      0 2017-04-10 03:40:00       -13.43      25.5\n",
       "1      1 2017-04-10 14:45:00        -1.05      33.0\n",
       "2      2 2017-04-11 04:25:00          NaN       nan\n",
       "3      3 2017-04-11 15:30:00          NaN       nan\n",
       "4      4 2017-04-12 03:30:00        -4.75      43.0"
      ]
     },
     "execution_count": 9,
     "metadata": {},
     "output_type": "execute_result"
    }
   ],
   "source": [
    "modis.head()"
   ]
  },
  {
   "cell_type": "markdown",
   "metadata": {},
   "source": [
    "Export this data:"
   ]
  },
  {
   "cell_type": "code",
   "execution_count": 21,
   "metadata": {},
   "outputs": [],
   "source": [
    "modis.to_pickle(\"./pkl/x.pkl\")"
   ]
  },
  {
   "cell_type": "markdown",
   "metadata": {},
   "source": [
    "Load Grand Mesa snow surface temperature data\n",
    "Plot MODIS LST and Grand Mesa temperature data together"
   ]
  },
  {
   "cell_type": "code",
   "execution_count": 10,
   "metadata": {},
   "outputs": [],
   "source": [
    "# Grand Mesa West surface temperature data\n",
    "filepath = r'C:\\Users\\steve\\OneDrive\\Documents\\School Stuff\\UW\\Mountain Hydrology Research Group\\SnowEx\\SnowEx Met Data\\MW-V5t_spestana.csv'\n",
    "gm_west = pd.read_csv(filepath)\n",
    "\n",
    "# Make some data type and unit conversions\n",
    "hrs = -6\n",
    "gm_west['datetime'] = pd.to_datetime(gm_west['TIMESTAMP (TS, )']) # timestamp string to pandas datetime\n",
    "gm_west['datetime'] +=  pd.to_timedelta(hrs, unit='h')\n",
    "gm_west = gm_west.sort_values('datetime').reset_index()"
   ]
  },
  {
   "cell_type": "code",
   "execution_count": null,
   "metadata": {},
   "outputs": [],
   "source": [
    "# Load in GOES-16 observations from this same time period\n",
    "filepath = r'C:\\Users\\steve\\OneDrive\\Documents\\School Stuff\\UW\\Mountain Hydrology Research Group\\MountainGOES\\Tuolumne2017\\GOES_B14_BrightnessTemperature_19-22_Feb_2017_GrandMesa.csv'\n",
    "goes16_gm = pd.read_csv(filepath).T\n",
    "plt.plot(goes16_gm)"
   ]
  },
  {
   "cell_type": "markdown",
   "metadata": {},
   "source": [
    "Plot MODIS LST and Grand Mesa temperature data together"
   ]
  },
  {
   "cell_type": "code",
   "execution_count": 11,
   "metadata": {},
   "outputs": [
    {
     "name": "stderr",
     "output_type": "stream",
     "text": [
      "C:\\Users\\steve\\Anaconda3\\envs\\rasterenv\\lib\\site-packages\\pandas\\plotting\\_converter.py:129: FutureWarning: Using an implicitly registered datetime converter for a matplotlib plotting method. The converter was registered by pandas on import. Future versions of pandas will require you to explicitly register matplotlib converters.\n",
      "\n",
      "To register the converters:\n",
      "\t>>> from pandas.plotting import register_matplotlib_converters\n",
      "\t>>> register_matplotlib_converters()\n",
      "  warnings.warn(msg, FutureWarning)\n"
     ]
    },
    {
     "data": {
      "image/png": "[encoded data removed]",
      "text/plain": [
       "<Figure size 1080x432 with 1 Axes>"
      ]
     },
     "metadata": {
      "needs_background": "light"
     },
     "output_type": "display_data"
    }
   ],
   "source": [
    "###\n",
    "starttime = pd.to_datetime('2017-02-14 00:00')\n",
    "endtime = pd.to_datetime('2017-02-16 23:59:59')\n",
    "\n",
    "fig, ax = plt.subplots(figsize=(15,6))\n",
    "\n",
    "plt.plot([starttime, endtime],[0, 0],':',c='tab:grey')\n",
    "\n",
    "gm_west.plot(x='datetime',y='IRtarget_nadir1_C_Avg (C, Avg)', color='k', ax=ax, label= 'Grand Mesa West $T_{ss}$')\n",
    "gm_west.plot(x='datetime',y='AirTC_10ft_Avg (Deg C, Avg)', linestyle='--', color='b', ax=ax, label= 'Grand Mesa West $T_{air}$')\n",
    "\n",
    "aster_time = pd.to_datetime('2017-02-15 12:07:26')\n",
    "aster_LST = -4.07959\n",
    "plt.plot(aster_time,aster_LST,'v',color='k',markersize=10,label='ASTER LST')\n",
    "\n",
    "modis.plot(x='datetime',y='temperature',\n",
    "           marker='s',c='r',linestyle='None',ax=ax,\n",
    "           label='MODIS LST',alpha=0.5)\n",
    "plt.errorbar(modis.datetime,modis.temp_mean,\n",
    "             yerr=np.array((modis.temp_max-modis.temp_min)/2),\n",
    "             linestyle='None',c='r',linewidth=1.5,\n",
    "             label='{}x{} MODIS LST Range'.format((m*2)+1,(m*2)+1))\n",
    "plt.subplots_adjust(right=1)\n",
    "plt.legend(loc='upper left',ncol=2) #bbox_to_anchor=(0.0, -0.05)\n",
    "ax.set_xlim((starttime,endtime))\n",
    "ax.set_ylim((-30,20))\n",
    "ax.set_ylabel('Temperature $\\degree$C');\n",
    "ax.set_title('Grand Mesa West Surface Temperatures');\n",
    "plt.savefig('GMWest-MODIS-LST-timeline.png',dpi=300)"
   ]
  },
  {
   "cell_type": "code",
   "execution_count": 1,
   "metadata": {},
   "outputs": [
    {
     "ename": "NameError",
     "evalue": "name 'pd' is not defined",
     "output_type": "error",
     "traceback": [
      "\u001b[1;31m---------------------------------------------------------------------------\u001b[0m",
      "\u001b[1;31mNameError\u001b[0m                                 Traceback (most recent call last)",
      "\u001b[1;32m<ipython-input-1-e300922180c0>\u001b[0m in \u001b[0;36m<module>\u001b[1;34m\u001b[0m\n\u001b[0;32m      1\u001b[0m \u001b[1;31m# Grand Mesa Middle surface temperature data\u001b[0m\u001b[1;33m\u001b[0m\u001b[1;33m\u001b[0m\u001b[1;33m\u001b[0m\u001b[0m\n\u001b[0;32m      2\u001b[0m \u001b[0mfilepath\u001b[0m \u001b[1;33m=\u001b[0m \u001b[1;34mr'C:\\Users\\steve\\OneDrive\\Documents\\School Stuff\\UW\\Mountain Hydrology Research Group\\SnowEx\\SnowEx Met Data\\MW-V5t_spestana.csv'\u001b[0m\u001b[1;33m\u001b[0m\u001b[1;33m\u001b[0m\u001b[0m\n\u001b[1;32m----> 3\u001b[1;33m \u001b[0mgm_middle\u001b[0m \u001b[1;33m=\u001b[0m \u001b[0mpd\u001b[0m\u001b[1;33m.\u001b[0m\u001b[0mread_csv\u001b[0m\u001b[1;33m(\u001b[0m\u001b[0mfilepath\u001b[0m\u001b[1;33m)\u001b[0m\u001b[1;33m\u001b[0m\u001b[1;33m\u001b[0m\u001b[0m\n\u001b[0m\u001b[0;32m      4\u001b[0m \u001b[1;33m\u001b[0m\u001b[0m\n\u001b[0;32m      5\u001b[0m \u001b[1;31m# Make some data type and unit conversions\u001b[0m\u001b[1;33m\u001b[0m\u001b[1;33m\u001b[0m\u001b[1;33m\u001b[0m\u001b[0m\n",
      "\u001b[1;31mNameError\u001b[0m: name 'pd' is not defined"
     ]
    }
   ],
   "source": [
    "# Grand Mesa Middle surface temperature data\n",
    "filepath = r'C:\\Users\\steve\\OneDrive\\Documents\\School Stuff\\UW\\Mountain Hydrology Research Group\\SnowEx\\SnowEx Met Data\\MW-V5t_spestana.csv'\n",
    "gm_middle = pd.read_csv(filepath)\n",
    "\n",
    "# Make some data type and unit conversions\n",
    "hrs = -6\n",
    "gm_middle['datetime'] = pd.to_datetime(gm_middle['TIMESTAMP (TS, )']) # timestamp string to pandas datetime\n",
    "gm_middle['datetime'] +=  pd.to_timedelta(hrs, unit='h')\n",
    "gm_middle = gm_middle.sort_values('datetime').reset_index()"
   ]
  },
  {
   "cell_type": "code",
   "execution_count": null,
   "metadata": {},
   "outputs": [],
   "source": [
    "starttime = pd.to_datetime('2017-02-13 00:00')\n",
    "endtime = pd.to_datetime('2017-02-18 23:59:59')\n",
    "\n",
    "fig, ax = plt.subplots(figsize=(20,6))\n",
    "\n",
    "plt.plot([starttime, endtime],[0, 0],':',c='tab:grey')\n",
    "\n",
    "gm_middle.plot(x='datetime',y='IRtarget_nadir1_C_Avg (C, Avg)', color='k', ax=ax, label= 'Grand Mesa Middle $T_{ss}$')\n",
    "gm_middle.plot(x='datetime',y='AirTC_10ft_Avg (Deg C, Avg)', linestyle='--', color='b', ax=ax, label= 'Grand Mesa Middle $T_{air}$')\n",
    "modis.plot(x='datetime',y='temperature',\n",
    "           marker='s',c='r',linestyle='None',ax=ax,\n",
    "           label='MODIS LST',alpha=0.5)\n",
    "plt.errorbar(modis.datetime,modis.temp_mean,\n",
    "             yerr=np.array((modis.temp_max-modis.temp_min)/2),\n",
    "             linestyle='None',c='r',linewidth=1.5,\n",
    "             label='{}x{} MODIS LST Range'.format((m*2)+1,(m*2)+1))\n",
    "\n",
    "plt.legend()\n",
    "ax.set_xlim((starttime,endtime))\n",
    "ax.set_ylim((-40,20))\n",
    "ax.set_ylabel('Temperature $\\degree$C');\n",
    "ax.set_title('Grand Mesa Middle Surface Temperatures');\n",
    "plt.savefig('GMMiddle-MODIS-LST-timeline.png',dpi=300)"
   ]
  },
  {
   "cell_type": "code",
   "execution_count": null,
   "metadata": {},
   "outputs": [],
   "source": []
  },
  {
   "cell_type": "code",
   "execution_count": null,
   "metadata": {},
   "outputs": [],
   "source": [
    "# Grand Mesa LSOS surface temperature data\n",
    "filepath = r'C:\\Users\\steve\\OneDrive\\Documents\\School Stuff\\UW\\Mountain Hydrology Research Group\\SnowEx\\SnowEx Met Data\\LSOS-V2t_spestana.csv'\n",
    "gm_lsos = pd.read_csv(filepath)\n",
    "\n",
    "# Make some data type and unit conversions\n",
    "hrs = -6\n",
    "gm_lsos['datetime'] = pd.to_datetime(gm_lsos['TIMESTAMP']) # timestamp string to pandas datetime\n",
    "gm_lsos['datetime'] +=  pd.to_timedelta(hrs, unit='h')\n",
    "gm_lsos = gm_lsos.sort_values('datetime').reset_index()"
   ]
  },
  {
   "cell_type": "code",
   "execution_count": null,
   "metadata": {},
   "outputs": [],
   "source": [
    "starttime = pd.to_datetime('2017-02-14 00:00')\n",
    "endtime = pd.to_datetime('2017-02-16 23:59:59')\n",
    "\n",
    "fig, ax = plt.subplots(figsize=(20,6))\n",
    "\n",
    "plt.plot([starttime, endtime],[0, 0],':',c='tab:grey')\n",
    "\n",
    "gm_lsos.plot(x='datetime',y='IRtarget_nadir1_C_Avg (C, Avg)', color='k', ax=ax, label= 'Grand Mesa LSOS $T_{ss}$')\n",
    "gm_lsos.plot(x='datetime',y='AirTC_10ft_Avg (Deg C, Avg)', linestyle='--', color='b', ax=ax, label= 'Grand Mesa LSOS $T_{air}$')\n",
    "aster_time = pd.to_datetime('2017-02-15 12:07:26')\n",
    "aster_LST = -0.629333\n",
    "plt.plot(aster_time,aster_LST,'v',color='k',markersize=10,label='ASTER LST')\n",
    "modis.plot(x='datetime',y='temperature',\n",
    "           marker='s',c='r',linestyle='None',ax=ax,\n",
    "           label='MODIS LST',alpha=0.5)\n",
    "plt.errorbar(modis.datetime,modis.temp_mean,\n",
    "             yerr=np.array((modis.temp_max-modis.temp_min)/2),\n",
    "             linestyle='None',c='r',linewidth=1.5,\n",
    "             label='{}x{} MODIS LST Range'.format((m*2)+1,(m*2)+1))\n",
    "\n",
    "plt.legend()\n",
    "ax.set_xlim((starttime,endtime))\n",
    "ax.set_ylim((-40,20))\n",
    "ax.set_ylabel('Temperature $\\degree$C');\n",
    "ax.set_title('Grand Mesa LSOS Surface Temperatures');\n",
    "plt.savefig('GMLSOS-MODIS-ASTER-LST-timeline.png',dpi=300)"
   ]
  },
  {
   "cell_type": "code",
   "execution_count": null,
   "metadata": {},
   "outputs": [],
   "source": []
  },
  {
   "cell_type": "code",
   "execution_count": null,
   "metadata": {},
   "outputs": [],
   "source": []
  },
  {
   "cell_type": "code",
   "execution_count": null,
   "metadata": {},
   "outputs": [],
   "source": []
  },
  {
   "cell_type": "markdown",
   "metadata": {},
   "source": [
    "Find the in situ observations closest in time to our MODIS data, compute the difference between MODIS LST and in situ Tsnow and Tair\n",
    "Then plot MODIS LST vs in situ Tsnow and Tair to see how they compare...\n",
    "\n",
    "(find the closest in time to our MODIS data, compute the difference between MODIS LST and Grand Mesa Tsnow and Tair)\n",
    "Then plot MODIS LST vs Grand Mesa Tsnow and Tair to see how they compare..."
   ]
  },
  {
   "cell_type": "code",
   "execution_count": 2,
   "metadata": {},
   "outputs": [],
   "source": [
    "def nearest(items, pivot):\n",
    "    #https://stackoverflow.com/questions/32237862/find-the-closest-date-to-a-given-date\n",
    "    return min(items, key=lambda x: abs(x - pivot))"
   ]
  },
  {
   "cell_type": "code",
   "execution_count": 13,
   "metadata": {},
   "outputs": [
    {
     "data": {
      "text/plain": [
       "<matplotlib.legend.Legend at 0x160ab69c9b0>"
      ]
     },
     "execution_count": 13,
     "metadata": {},
     "output_type": "execute_result"
    },
    {
     "data": {
      "image/png": "[encoded data removed]",
      "text/plain": [
       "<Figure size 432x432 with 1 Axes>"
      ]
     },
     "metadata": {
      "needs_background": "light"
     },
     "output_type": "display_data"
    }
   ],
   "source": [
    "# Compute the difference in temperatures (Grand Mesa - MODIS)\n",
    "delta_tair = []\n",
    "delta_tsnow = []\n",
    "gm_tair = []\n",
    "gm_tsnow = []\n",
    "\n",
    "i = 0\n",
    "for time in modis['datetime']:\n",
    "    gm_time = (nearest(gm_west['datetime'],time))\n",
    "    #print('MODIS Time:{} \\t Gaylor Time:{}'.format(time,gaylor_time))\n",
    "    gm_tsnow.append(gm_west['IRtarget_nadir1_C_Avg (C, Avg)'][gm_west['datetime']==gm_time].values[0])\n",
    "    gm_tair.append(gm_west['AirTC_10ft_Avg (Deg C, Avg)'][gm_west['datetime']==gm_time].values[0])\n",
    "    modis_t = modis.temperature[modis['datetime']==time].values[0]\n",
    "    modis_tmean = modis.temp_mean[modis['datetime']==time].values[0]\n",
    "    modis_tmin = modis.temp_min[modis['datetime']==time].values[0]\n",
    "    modis_tmax = modis.temp_max[modis['datetime']==time].values[0]\n",
    "    #print('{} \\t {} \\t {}'.format(modis_t,gaylor_tsnow,gaylor_tair))\n",
    "    delta_tsnow.append(modis_t - gm_tsnow[i])\n",
    "    delta_tair.append(modis_t - gm_tair[i])\n",
    "    i+=1\n",
    "    \n"
   ]
  },
  {
   "cell_type": "code",
   "execution_count": null,
   "metadata": {},
   "outputs": [],
   "source": [
    "# Compute the difference in temperatures (Grand Mesa - MODIS)\n",
    "delta_tair = []\n",
    "delta_tsnow = []\n",
    "gm_tair = []\n",
    "gm_tsnow = []\n",
    "\n",
    "i = 0\n",
    "for time in modis['datetime']:\n",
    "    gm_time = (nearest(gm_west['datetime'],time))\n",
    "    #print('MODIS Time:{} \\t Gaylor Time:{}'.format(time,gaylor_time))\n",
    "    gm_tsnow.append(gm_west['IRtarget_nadir1_C_Avg (C, Avg)'][gm_west['datetime']==gm_time].values[0])\n",
    "    gm_tair.append(gm_west['AirTC_10ft_Avg (Deg C, Avg)'][gm_west['datetime']==gm_time].values[0])\n",
    "    modis_t = modis.temperature[modis['datetime']==time].values[0]\n",
    "    modis_tmean = modis.temp_mean[modis['datetime']==time].values[0]\n",
    "    modis_tmin = modis.temp_min[modis['datetime']==time].values[0]\n",
    "    modis_tmax = modis.temp_max[modis['datetime']==time].values[0]\n",
    "    #print('{} \\t {} \\t {}'.format(modis_t,gaylor_tsnow,gaylor_tair))\n",
    "    delta_tsnow.append(modis_t - gm_tsnow[i])\n",
    "    delta_tair.append(modis_t - gm_tair[i])\n",
    "    i+=1\n",
    "    \n"
   ]
  },
  {
   "cell_type": "code",
   "execution_count": null,
   "metadata": {},
   "outputs": [],
   "source": [
    "plt.figure(figsize=(6,6))\n",
    "plt.plot(gm_tsnow,modis.temperature,'.k',label='Tsnow')\n",
    "plt.plot(gm_tair,modis.temperature,'.b',label='Tair')\n",
    "\n",
    "plt.errorbar(gm_tsnow,modis.temp_mean,\n",
    "             yerr=np.array((modis.temp_max-modis.temp_min)/2),\n",
    "             linestyle='None',c='k',linewidth=1.5,alpha=0.4,\n",
    "             label='{}x{} MODIS LST Range'.format((m*2)+1,(m*2)+1))\n",
    "plt.errorbar(gm_tair,modis.temp_mean,\n",
    "             yerr=np.array((modis.temp_max-modis.temp_min)/2),\n",
    "             linestyle='None',c='b',linewidth=1.5,alpha=0.4,\n",
    "             label='{}x{} MODIS LST Range'.format((m*2)+1,(m*2)+1))\n",
    "\n",
    "plt.plot([-30,30],[-30,30],'--',c='tab:grey',label='1:1')\n",
    "plt.plot([0,0],[-100,100],':',c='k',alpha=0.3)\n",
    "plt.plot([-100,100],[0,0],':',c='k',alpha=0.3)\n",
    "#plt.text(10,-30,'MODIS colder')\n",
    "#plt.text(-30,19,'MODIS warmer')\n",
    "plt.xlabel('Grand Mesa West Temperature, C')\n",
    "plt.ylabel('MODIS LST, C')\n",
    "plt.xlim((-30,30))\n",
    "plt.ylim((-30,30))\n",
    "plt.legend()\n",
    "plt.savefig('GMwest-vs-MODIS-LST.png',dpi=300)\n"
   ]
  },
  {
   "cell_type": "code",
   "execution_count": null,
   "metadata": {},
   "outputs": [],
   "source": [
    "# How does the difference between MODIS LST and ground data change as a function of time?\n",
    "\n",
    "plt.figure(figsize=(15,5))\n",
    "plt.plot(modis.datetime,delta_tair,'.b',label='$\\Delta T_{air}$',alpha=1);\n",
    "plt.plot(modis.datetime,delta_tsnow,'.k',label='$\\Delta T_{ss}$',alpha=1);\n",
    "\n",
    "plt.xlabel('Time')\n",
    "plt.ylabel('$\\Delta Temperature \\,\\, \\degree C$\\n MODIS Colder <------> MODIS Warmer')\n",
    "plt.legend()\n",
    "plt.plot([starttime, endtime],[0, 0],':',c='tab:grey')\n",
    "plt.title('Temperature Difference and Over Time\\n(MODIS - Grand Mesa West)');\n",
    "\n",
    "plt.savefig('GMwest-MODIS-deltaLST-timeline.png',dpi=300)"
   ]
  },
  {
   "cell_type": "code",
   "execution_count": null,
   "metadata": {},
   "outputs": [],
   "source": [
    "# How does the difference between MODIS LST and ground data change as a function of hour of day?\n",
    "\n",
    "plt.plot(pd.DatetimeIndex(modis.datetime).hour,delta_tair,'.b',label='$\\Delta T_{air}$',alpha=1);\n",
    "plt.plot(pd.DatetimeIndex(modis.datetime).hour,delta_tsnow,'.k',label='$\\Delta T_{ss}$',alpha=1);\n",
    "\n",
    "plt.xlabel('Hour of Day')\n",
    "plt.ylabel('$\\Delta Temperature \\,\\, \\degree C$\\n MODIS Colder <------> MODIS Warmer')\n",
    "plt.legend()\n",
    "plt.plot([0, 24],[0, 0],':',c='tab:grey')\n",
    "plt.title('Temperature Difference and Hour of Day\\n(MODIS - Gaylor Pit)');\n",
    "\n",
    "plt.savefig('GMwest-MODIS-deltaLST-hour-of-day.png',dpi=300)"
   ]
  },
  {
   "cell_type": "code",
   "execution_count": null,
   "metadata": {},
   "outputs": [],
   "source": [
    "# How does the difference between MODIS LST and ground data change as a function of view angle?\n",
    "\n",
    "plt.plot(modis.viewangle,delta_tair,'.b',label='$\\Delta T_{air}$',alpha=1);\n",
    "plt.plot(modis['viewangle'],delta_tsnow,'.k',label='$\\Delta T_{ss}$',alpha=1);\n",
    "\n",
    "plt.xlabel('View Angle from Nadir')\n",
    "plt.ylabel('$\\Delta Temperature \\,\\, \\degree C$\\n MODIS Colder <------> MODIS Warmer')\n",
    "plt.legend()\n",
    "plt.xlim([0,70])\n",
    "plt.plot([0, 70],[0, 0],'-',c='tab:grey')\n",
    "plt.title('Temperature Difference and View Angle\\n(MODIS - Gaylor Pit)');\n",
    "\n",
    "plt.savefig('GMwest-MODIS-deltaLST-view-angle.png',dpi=300)"
   ]
  },
  {
   "cell_type": "code",
   "execution_count": null,
   "metadata": {},
   "outputs": [],
   "source": []
  },
  {
   "cell_type": "code",
   "execution_count": null,
   "metadata": {},
   "outputs": [],
   "source": []
  },
  {
   "cell_type": "code",
   "execution_count": null,
   "metadata": {},
   "outputs": [],
   "source": []
  },
  {
   "cell_type": "code",
   "execution_count": null,
   "metadata": {},
   "outputs": [],
   "source": []
  },
  {
   "cell_type": "code",
   "execution_count": null,
   "metadata": {},
   "outputs": [],
   "source": []
  },
  {
   "cell_type": "code",
   "execution_count": null,
   "metadata": {},
   "outputs": [],
   "source": []
  }
 ],
 "metadata": {
  "kernelspec": {
   "display_name": "Python 3",
   "language": "python",
   "name": "python3"
  },
  "language_info": {
   "codemirror_mode": {
    "name": "ipython",
    "version": 3
   },
   "file_extension": ".py",
   "mimetype": "text/x-python",
   "name": "python",
   "nbconvert_exporter": "python",
   "pygments_lexer": "ipython3",
   "version": "3.6.7"
  }
 },
 "nbformat": 4,
 "nbformat_minor": 2
}
